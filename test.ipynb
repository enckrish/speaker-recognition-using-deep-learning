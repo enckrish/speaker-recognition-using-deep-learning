{
 "cells": [
  {
   "cell_type": "code",
   "execution_count": 1,
   "metadata": {},
   "outputs": [
    {
     "name": "stderr",
     "output_type": "stream",
     "text": [
      "/home/krishnendu/Projects/lstm-sr/.venv/lib/python3.10/site-packages/tqdm/auto.py:21: TqdmWarning: IProgress not found. Please update jupyter and ipywidgets. See https://ipywidgets.readthedocs.io/en/stable/user_install.html\n",
      "  from .autonotebook import tqdm as notebook_tqdm\n"
     ]
    }
   ],
   "source": [
    "import torchaudio\n",
    "import torch\n",
    "from data_utils import SpeakerDataset\n",
    "from audio_utils import transform_audio, load_cleaned_audio\n",
    "from configs import DSInfo"
   ]
  },
  {
   "cell_type": "code",
   "execution_count": 3,
   "metadata": {},
   "outputs": [
    {
     "data": {
      "text/plain": [
       "(251, '0007.flac')"
      ]
     },
     "execution_count": 3,
     "metadata": {},
     "output_type": "execute_result"
    }
   ],
   "source": [
    "ds = SpeakerDataset(DSInfo.TRAIN_DIR)\n",
    "len(ds.speaker_dict.keys()), ds[0][1]"
   ]
  },
  {
   "cell_type": "code",
   "execution_count": 6,
   "metadata": {},
   "outputs": [
    {
     "name": "stdout",
     "output_type": "stream",
     "text": [
      "./feats/LibriSpeech-train-clean-100-150-132655-150-132655-0022.flac.pt\n"
     ]
    },
    {
     "data": {
      "text/plain": [
       "tensor([[-17.5843, -15.4392, -13.2692,  ..., -17.2520, -16.4631, -15.3595],\n",
       "        [-14.2264, -14.8690, -15.3077,  ..., -15.0421, -15.6372, -17.0589],\n",
       "        [-15.6156, -14.3875, -12.6684,  ..., -15.7611, -15.8225, -15.5930],\n",
       "        ...,\n",
       "        [ -9.7407,  -9.6104,  -9.4568,  ..., -11.7465, -12.1926, -12.1896],\n",
       "        [-10.2981, -10.0497,  -9.8745,  ..., -11.7599, -11.7856, -11.7152],\n",
       "        [-10.1087, -10.4743, -10.5980,  ..., -11.8429, -11.8811, -11.8630]])"
      ]
     },
     "execution_count": 6,
     "metadata": {},
     "output_type": "execute_result"
    }
   ],
   "source": [
    "import os\n",
    "import pickle\n",
    "path = './feats/' + os.listdir('./feats')[0]\n",
    "print(path)\n",
    "x = torch.load(path)\n",
    "x"
   ]
  },
  {
   "cell_type": "code",
   "execution_count": null,
   "metadata": {},
   "outputs": [],
   "source": []
  }
 ],
 "metadata": {
  "kernelspec": {
   "display_name": ".venv",
   "language": "python",
   "name": "python3"
  },
  "language_info": {
   "codemirror_mode": {
    "name": "ipython",
    "version": 3
   },
   "file_extension": ".py",
   "mimetype": "text/x-python",
   "name": "python",
   "nbconvert_exporter": "python",
   "pygments_lexer": "ipython3",
   "version": "3.10.12"
  }
 },
 "nbformat": 4,
 "nbformat_minor": 2
}
